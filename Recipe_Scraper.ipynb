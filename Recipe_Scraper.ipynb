{
 "cells": [
  {
   "cell_type": "code",
   "execution_count": 16,
   "id": "5e48fe91",
   "metadata": {},
   "outputs": [],
   "source": [
    "#import funcs\n",
    "import funcs"
   ]
  },
  {
   "cell_type": "code",
   "execution_count": 22,
   "id": "17293ff5",
   "metadata": {},
   "outputs": [
    {
     "name": "stdout",
     "output_type": "stream",
     "text": [
      "Enter recipe search term: jalapeno cornbread\n",
      "-------------------\n",
      "Starting scrape for page 1\n",
      "https://www.allrecipes.com/search?q=jalapeno+cornbread\n",
      "-------------------\n",
      "5 elements searched of 24\n",
      "10 elements searched of 24\n",
      "15 elements searched of 24\n",
      "20 elements searched of 24\n",
      "-------------------\n",
      "Moving to next page\n",
      "-------------------\n",
      "14 recipes found on page 1\n",
      "-------------------\n",
      "Starting scrape for page 2\n",
      "https://www.allrecipes.com/search?jalapeno%20cornbread=jalapeno%20cornbread&offset=24&q=jalapeno%20cornbread\n",
      "-------------------\n",
      "5 elements searched of 24\n",
      "10 elements searched of 24\n",
      "15 elements searched of 24\n",
      "20 elements searched of 24\n",
      "-------------------\n",
      "7 recipes found on page 2\n",
      "-------------------\n",
      "Reached the last page...\n",
      "All recipes scraped and stored...\n",
      "21 total recipes found\n",
      "-------------------\n"
     ]
    }
   ],
   "source": [
    "#use recipe string and number of search pages as arguements\n",
    "#return two pandas DataFrames (top recipes info/recipe text(ingredients and instructions))\n",
    "top_recipes_df, recipe_text_df = funcs.recipe_search(input('Enter recipe search term: '),2)\n",
    "\n",
    "### Needs debugging removed ###"
   ]
  },
  {
   "cell_type": "code",
   "execution_count": 23,
   "id": "bb5cf722",
   "metadata": {},
   "outputs": [
    {
     "data": {
      "text/html": [
       "<div>\n",
       "<style scoped>\n",
       "    .dataframe tbody tr th:only-of-type {\n",
       "        vertical-align: middle;\n",
       "    }\n",
       "\n",
       "    .dataframe tbody tr th {\n",
       "        vertical-align: top;\n",
       "    }\n",
       "\n",
       "    .dataframe thead th {\n",
       "        text-align: right;\n",
       "    }\n",
       "</style>\n",
       "<table border=\"1\" class=\"dataframe\">\n",
       "  <thead>\n",
       "    <tr style=\"text-align: right;\">\n",
       "      <th></th>\n",
       "      <th>title</th>\n",
       "      <th>rating</th>\n",
       "      <th>url</th>\n",
       "    </tr>\n",
       "  </thead>\n",
       "  <tbody>\n",
       "    <tr>\n",
       "      <th>0</th>\n",
       "      <td>Jalapeno-Bacon Stuffing</td>\n",
       "      <td>5</td>\n",
       "      <td>https://www.allrecipes.com/recipe/277143/jalap...</td>\n",
       "    </tr>\n",
       "    <tr>\n",
       "      <th>1</th>\n",
       "      <td>Jalapeno Creamed Corn Casserole</td>\n",
       "      <td>5</td>\n",
       "      <td>https://www.allrecipes.com/recipe/275829/jalap...</td>\n",
       "    </tr>\n",
       "    <tr>\n",
       "      <th>2</th>\n",
       "      <td>Pinto Beans With Mexican-Style Seasonings</td>\n",
       "      <td>5</td>\n",
       "      <td>https://www.allrecipes.com/recipe/231037/pinto...</td>\n",
       "    </tr>\n",
       "  </tbody>\n",
       "</table>\n",
       "</div>"
      ],
      "text/plain": [
       "                                       title  rating  \\\n",
       "0                    Jalapeno-Bacon Stuffing       5   \n",
       "1            Jalapeno Creamed Corn Casserole       5   \n",
       "2  Pinto Beans With Mexican-Style Seasonings       5   \n",
       "\n",
       "                                                 url  \n",
       "0  https://www.allrecipes.com/recipe/277143/jalap...  \n",
       "1  https://www.allrecipes.com/recipe/275829/jalap...  \n",
       "2  https://www.allrecipes.com/recipe/231037/pinto...  "
      ]
     },
     "execution_count": 23,
     "metadata": {},
     "output_type": "execute_result"
    }
   ],
   "source": [
    "#print top_recipes df here\n",
    "top_recipes_df = top_recipes_df.reset_index(drop = True)\n",
    "top_recipes_df"
   ]
  },
  {
   "cell_type": "code",
   "execution_count": 24,
   "id": "89d7dbc8",
   "metadata": {},
   "outputs": [
    {
     "name": "stdout",
     "output_type": "stream",
     "text": [
      "Enter the row index for the recipe you wish to see: 1\n",
      "Url: \n",
      "https://www.allrecipes.com/recipe/275829/jalapeno-creamed-corn-casserole/\n",
      "\n",
      "----------------------\n",
      "Ingredients:\n",
      "----------------------\n",
      "1 (15 ounce) can whole kernel corn, drained\n",
      "1 (15 ounce) can cream-style corn\n",
      "1 (8.5 ounce) package corn muffin mix\n",
      "1 cup sour cream\n",
      "½ cup unsalted butter, melted\n",
      "¼ cup diced pickled jalapeno pepper slices\n",
      "1 pinch salt\n",
      "\n",
      "\n",
      "Step 1:\n",
      "----------------------\n",
      "Preheat the oven to 350 degrees F (175 degrees C). Grease a 9-inch square baking pan.\n",
      "----------------------\n",
      "\n",
      "Step 2:\n",
      "----------------------\n",
      "Stir together whole kernel corn, cream-style corn, muffin mix, sour cream, melted butter, jalapeño peppers, and salt in a large bowl until combined. Pour batter into the prepared baking pan.\n",
      "----------------------\n",
      "\n",
      "Step 3:\n",
      "----------------------\n",
      "Bake in the preheated oven until a toothpick inserted into the center comes out clean, 45 to 60 minutes.\n",
      "----------------------\n"
     ]
    }
   ],
   "source": [
    "# requests row index from table above as input\n",
    "recipe_choice = funcs.recipe_select(top_recipes_df)\n",
    "\n",
    "# takes a string, the recipe_text_df and top_recipes_df as arguements\n",
    "# prints ingredients and instructions to screen\n",
    "funcs.get_recipe(recipe_choice,recipe_text_df, top_recipes_df)"
   ]
  }
 ],
 "metadata": {
  "kernelspec": {
   "display_name": "Python [conda env:dev]",
   "language": "python",
   "name": "conda-env-dev-py"
  },
  "language_info": {
   "codemirror_mode": {
    "name": "ipython",
    "version": 3
   },
   "file_extension": ".py",
   "mimetype": "text/x-python",
   "name": "python",
   "nbconvert_exporter": "python",
   "pygments_lexer": "ipython3",
   "version": "3.10.11"
  }
 },
 "nbformat": 4,
 "nbformat_minor": 5
}
