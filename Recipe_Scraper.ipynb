{
 "cells": [
  {
   "cell_type": "code",
   "execution_count": 1,
   "id": "5e48fe91",
   "metadata": {},
   "outputs": [],
   "source": [
    "#import funcs\n",
    "import funcs"
   ]
  },
  {
   "cell_type": "code",
   "execution_count": 2,
   "id": "17293ff5",
   "metadata": {},
   "outputs": [
    {
     "name": "stdout",
     "output_type": "stream",
     "text": [
      "Enter recipe search term: fried chicken\n",
      "-------------------\n",
      "Starting scrape for page 1\n",
      "https://www.allrecipes.com/search?q=fried+chicken\n",
      "-------------------\n",
      "5 elements searched of 24\n",
      "10 elements searched of 24\n",
      "15 elements searched of 24\n",
      "20 elements searched of 24\n",
      "-------------------\n",
      "Moving to next page\n",
      "-------------------\n",
      "10 recipes found on page 1\n",
      "-------------------\n",
      "Starting scrape for page 2\n",
      "https://www.allrecipes.com/search?fried%20chicken=fried%20chicken&offset=24&q=fried%20chicken\n",
      "-------------------\n",
      "5 elements searched of 24\n",
      "10 elements searched of 24\n",
      "15 elements searched of 24\n",
      "20 elements searched of 24\n",
      "-------------------\n",
      "18 recipes found on page 2\n",
      "-------------------\n",
      "Reached the last page...\n",
      "All recipes scraped and stored...\n",
      "28 total recipes found\n",
      "-------------------\n"
     ]
    }
   ],
   "source": [
    "#use recipe string and number of search pages as arguements\n",
    "#return two pandas DataFrames (top recipes info/recipe text(ingredients and instructions))\n",
    "top_recipes_df, recipe_text_df = funcs.recipe_search(input('Enter recipe search term: '),2)\n",
    "\n",
    "### Needs debugging removed ###"
   ]
  },
  {
   "cell_type": "code",
   "execution_count": 3,
   "id": "bb5cf722",
   "metadata": {},
   "outputs": [
    {
     "data": {
      "text/html": [
       "<div>\n",
       "<style scoped>\n",
       "    .dataframe tbody tr th:only-of-type {\n",
       "        vertical-align: middle;\n",
       "    }\n",
       "\n",
       "    .dataframe tbody tr th {\n",
       "        vertical-align: top;\n",
       "    }\n",
       "\n",
       "    .dataframe thead th {\n",
       "        text-align: right;\n",
       "    }\n",
       "</style>\n",
       "<table border=\"1\" class=\"dataframe\">\n",
       "  <thead>\n",
       "    <tr style=\"text-align: right;\">\n",
       "      <th></th>\n",
       "      <th>title</th>\n",
       "      <th>rating</th>\n",
       "      <th>url</th>\n",
       "    </tr>\n",
       "  </thead>\n",
       "  <tbody>\n",
       "    <tr>\n",
       "      <th>0</th>\n",
       "      <td>Millie Pasquinelli's Fried Chicken</td>\n",
       "      <td>5</td>\n",
       "      <td>https://www.allrecipes.com/recipe/8970/millie-...</td>\n",
       "    </tr>\n",
       "  </tbody>\n",
       "</table>\n",
       "</div>"
      ],
      "text/plain": [
       "                                title  rating  \\\n",
       "0  Millie Pasquinelli's Fried Chicken       5   \n",
       "\n",
       "                                                 url  \n",
       "0  https://www.allrecipes.com/recipe/8970/millie-...  "
      ]
     },
     "execution_count": 3,
     "metadata": {},
     "output_type": "execute_result"
    }
   ],
   "source": [
    "#print top_recipes df here\n",
    "top_recipes_df = top_recipes_df.reset_index(drop = True)\n",
    "top_recipes_df"
   ]
  },
  {
   "cell_type": "code",
   "execution_count": 4,
   "id": "89d7dbc8",
   "metadata": {},
   "outputs": [
    {
     "name": "stdout",
     "output_type": "stream",
     "text": [
      "Enter the row index for the recipe you wish to see: 0\n",
      "Url: \n",
      "https://www.allrecipes.com/recipe/8970/millie-pasquinellis-fried-chicken/\n",
      "\n",
      "----------------------\n",
      "Ingredients:\n",
      "----------------------\n",
      "3 cups all-purpose flour\n",
      "5 tablespoons seasoned salt\n",
      "3 tablespoons garlic powder\n",
      "  salt and pepper to taste\n",
      "4 large eggs, beaten\n",
      "2 (2 to 3 pound) whole chickens, cut into pieces\n",
      "1 quart vegetable oil for frying\n",
      "\n",
      "\n",
      "Step 1:\n",
      "----------------------\n",
      "Mix flour, seasoned salt, garlic powder, salt, and pepper in a shallow plate or bowl. Place eggs in a separate shallow bowl.\n",
      "----------------------\n",
      "\n",
      "Step 2:\n",
      "----------------------\n",
      "Roll or shake chicken pieces in the flour mixture and place on a platter. Then dip each chicken piece in the egg and roll again in the flour mixture.\n",
      "----------------------\n",
      "\n",
      "Step 3:\n",
      "----------------------\n",
      "Heat oil in a deep-fryer or large skillet to 375 degrees F (190 degrees C).\n",
      "----------------------\n",
      "\n",
      "Step 4:\n",
      "----------------------\n",
      "Fry coated chicken pieces in hot oil for about 5 minutes on each side. Cover skillet and cook on lower heat for about 10 minutes. Remove cover, turn up the heat, and fry for 5 minutes on each side to make chicken crispy. Chicken is done when it is no longer pink inside and its juices run clear. An instant-read thermometer inserted near the bone should read 165 degrees F (74 degrees C).\n",
      "----------------------\n",
      "\n",
      "Step 5:\n",
      "----------------------\n",
      "Drain fried chicken on paper towels and keep warm in an oven until ready to serve.\n",
      "----------------------\n"
     ]
    }
   ],
   "source": [
    "# requests row index from table above as input\n",
    "recipe_choice = funcs.recipe_select(top_recipes_df)\n",
    "\n",
    "# takes a string, the recipe_text_df and top_recipes_df as arguements\n",
    "# prints ingredients and instructions to screen\n",
    "funcs.get_recipe(recipe_choice,recipe_text_df, top_recipes_df)"
   ]
  },
  {
   "cell_type": "code",
   "execution_count": null,
   "id": "fa8bfac0",
   "metadata": {},
   "outputs": [],
   "source": []
  }
 ],
 "metadata": {
  "kernelspec": {
   "display_name": "Python [conda env:dev]",
   "language": "python",
   "name": "conda-env-dev-py"
  },
  "language_info": {
   "codemirror_mode": {
    "name": "ipython",
    "version": 3
   },
   "file_extension": ".py",
   "mimetype": "text/x-python",
   "name": "python",
   "nbconvert_exporter": "python",
   "pygments_lexer": "ipython3",
   "version": "3.10.11"
  }
 },
 "nbformat": 4,
 "nbformat_minor": 5
}
